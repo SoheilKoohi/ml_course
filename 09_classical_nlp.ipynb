{
  "nbformat": 4,
  "nbformat_minor": 0,
  "metadata": {
    "colab": {
      "name": "09_classical_nlp.ipynb",
      "provenance": [],
      "authorship_tag": "ABX9TyOMZZ5wIZvjPpUgGgihtBhH"
    },
    "kernelspec": {
      "name": "python3",
      "display_name": "Python 3"
    },
    "language_info": {
      "name": "python"
    }
  },
  "cells": [
    {
      "cell_type": "code",
      "metadata": {
        "colab": {
          "base_uri": "https://localhost:8080/"
        },
        "id": "uuKtJwgHd6fx",
        "outputId": "a2e607e3-057b-417f-b768-0652dece4b19"
      },
      "source": [
        "print(\"test\")"
      ],
      "execution_count": 2,
      "outputs": [
        {
          "output_type": "stream",
          "text": [
            "test\n"
          ],
          "name": "stdout"
        }
      ]
    }
  ]
}