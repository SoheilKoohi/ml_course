{
 "cells": [
  {
   "cell_type": "markdown",
   "metadata": {},
   "source": [
    "<h1>Introduction to Machine Learining and Deep Learning</h1>"
   ]
  },
  {
   "cell_type": "markdown",
   "metadata": {},
   "source": [
    "<img src=\"images/datascience_meme.jpeg\" alt=\"data science meme\" width=\"700\" height=\"700\">"
   ]
  },
  {
   "cell_type": "markdown",
   "metadata": {},
   "source": [
    "<h2>Course Approach</h2> "
   ]
  },
  {
   "cell_type": "markdown",
   "metadata": {},
   "source": [
    "1. <p>In contrast with traditional and academic courses which use which start building the basic blocks of a concept in detail (buttom-up approach), we use the <b>Top-Down</b> approach in which first we find out the big picture of a concept and then we dig into details.</p> \n",
    "\n",
    "2. <p>We employ an industrial mindset for this course and sometimes we skip the theoritical details. Also most of the concepts comes with a real-world example</p>"
   ]
  },
  {
   "cell_type": "markdown",
   "metadata": {},
   "source": [
    "<h2>Prerequisites</h2>"
   ]
  },
  {
   "cell_type": "markdown",
   "metadata": {},
   "source": [
    "1. Have enthusiasm to Learn new things\n",
    "3. Patient\n",
    "2. Basic Python"
   ]
  },
  {
   "cell_type": "markdown",
   "metadata": {},
   "source": [
    "<h2>Presentation Platform</h2>"
   ]
  },
  {
   "cell_type": "markdown",
   "metadata": {},
   "source": [
    "<p>We use <a href=\"https://jupyter.org/\">Jupyter</a> for our presentations. It provides interactive coding and presentation along each other. However you can use any other coding environment that you are <b>comfortable</b> with</p>"
   ]
  },
  {
   "cell_type": "code",
   "execution_count": 3,
   "metadata": {},
   "outputs": [
    {
     "name": "stdout",
     "output_type": "stream",
     "text": [
      "Hello, World\n"
     ]
    }
   ],
   "source": [
    "print(\"Hello, World\")"
   ]
  },
  {
   "cell_type": "markdown",
   "metadata": {},
   "source": [
    "<h2>Course Activities</h2>"
   ]
  },
  {
   "cell_type": "markdown",
   "metadata": {},
   "source": [
    "<h3>Competitions</h3>"
   ]
  },
  {
   "cell_type": "markdown",
   "metadata": {},
   "source": [
    "<p>We will have 3 different Data Science and ML competitions in the form of <a href=\"https://www.kaggle.com/\">Kaggle Competitions</a>.</p>\n",
    "\n",
    "1. Regression Task\n",
    "\n",
    "2. Classification Task\n",
    "\n",
    "3. Neural Network Task\n",
    "\n",
    "<p>In each competition we will provide a test dataset an evaluate each algorithm based on this dataset and provide a leaderboard chart.</p>\n",
    "<p>The winner of each competition will win the prize.</p>\n",
    "<p><b>Note: We may not have class sessions in competetions weeks and instead  hold some complementary online coding sessions to help you implement the tasks better.</b></p>\n"
   ]
  },
  {
   "cell_type": "markdown",
   "metadata": {},
   "source": [
    "<h3>Blog Writing</h3>"
   ]
  },
  {
   "cell_type": "markdown",
   "metadata": {},
   "source": [
    "Each student should write a blog post about one of the topics he learned in the course and post it on <a href=\"https://virgool.io/\">Virgool</a> or personal weblogs.\n",
    "In this activity people will practice sharing newly learnt concepts and presenting concepts in the form of blogs.\n",
    "The best blog will win the prize."
   ]
  },
  {
   "cell_type": "markdown",
   "metadata": {},
   "source": [
    "<h3>Discussion Groups</h3>"
   ]
  },
  {
   "cell_type": "markdown",
   "metadata": {},
   "source": [
    "We can have a QA forum and people ask about their challenges in competitions and questions on ML concepts. Other students can answer to the questions.\n",
    "Those who participate the most will win the prize.\n"
   ]
  },
  {
   "cell_type": "markdown",
   "metadata": {},
   "source": [
    "<h2>Course Outline</h2>"
   ]
  },
  {
   "cell_type": "markdown",
   "metadata": {},
   "source": [
    "<h3>Session 1\n",
    "Linear Regression; a Familiar Example (4-6 hours)</h3>\n"
   ]
  },
  {
   "cell_type": "markdown",
   "metadata": {},
   "source": [
    "In this session we start with the simple and familiar example of Linear Regression and under the context of this example we will introduce basic concepts of Machine Learning such as:\n",
    "\n",
    "1. Dataset (Observation)\n",
    "2. Model\n",
    "3. Loss Function\n",
    "4. Formulate the problem as an Optimization problem\n",
    "5. Gradient descent\n",
    "6. Learning rate\n",
    "7. Evaluate the model\n",
    "8. Model selection\n",
    "9. Overfitting Vs. Underfitting\n",
    "10. Training Vs. Inference\n"
   ]
  },
  {
   "cell_type": "markdown",
   "metadata": {},
   "source": [
    "<h3>Session 2\n",
    "Moving from Regression to Classification (3-4 hours)</h3>\n"
   ]
  },
  {
   "cell_type": "markdown",
   "metadata": {},
   "source": [
    "At this point we know the basic concepts of ML and in this section we will introduce another widely used problem of ML called Classification. We will talk about followings under a fish classification example:\n",
    "\n",
    " - Concept of Classification\n",
    " - Classification Vs. Regression\n",
    " - Examples of Classification\n",
    " - Problem Formulation of Classification\n",
    " - Introduction to Logistic Regression\n",
    " - Loss Function of Logistic Regression\n",
    " - Evaluation Metrics in Classification\n"
   ]
  },
  {
   "cell_type": "markdown",
   "metadata": {},
   "source": [
    "<h3>Session 3\n",
    "A Tour of Classification Techniques (4 hours)\n",
    "</h3>"
   ]
  },
  {
   "cell_type": "markdown",
   "metadata": {},
   "source": [
    "In this session we will briefly review some famous classic classification techniques. The following methods will be investigated:\n",
    "\n",
    "1. Support Vector Machines\n",
    "2. Decision Tree\n",
    "3. Random Forest\n",
    "4. AdaBoost\n",
    "5. Bayesian Classifiers\n",
    "5. K-nearest Neighbour\n"
   ]
  },
  {
   "cell_type": "markdown",
   "metadata": {},
   "source": [
    "<h3>Session 4\n",
    "Introduction to Neural Networks (4 hours)\n",
    "</h3> "
   ]
  },
  {
   "cell_type": "markdown",
   "metadata": {},
   "source": [
    "In this section we begin our discussion on Neural Networks and Deep Learning. We start with introducing basic concepts of Neural Networks.\n",
    "\n",
    " - Perceptron\n",
    " - Linearity followed by non-linearity\n",
    " - MLP\n",
    " - Back Propagation\n",
    " - Batch Training Vs. Sequential Training\n",
    " - Interpretation of Neural Networks\n",
    " - Where using NNs are helpful\n"
   ]
  },
  {
   "cell_type": "markdown",
   "metadata": {},
   "source": [
    "<h3>Session 5 Convolutional Neural Networks (2 hours)<h3>"
   ]
  },
  {
   "cell_type": "markdown",
   "metadata": {},
   "source": [
    "In this section we will introduce a very important class of Neural Network name CNNs which is perfectly fit for image data. We will briefly Review following concepts:\n",
    "\n",
    " - Convolution Operator\n",
    " - Convolutional Networks\n",
    " - Max Pooling\n",
    " - Famous CNN architectures\n"
   ]
  },
  {
   "cell_type": "markdown",
   "metadata": {},
   "source": [
    "<h3>Session 6\n",
    "Recurrent Neural Networks (4 hour)\n",
    "</h3>"
   ]
  },
  {
   "cell_type": "markdown",
   "metadata": {},
   "source": [
    "In this section we will introduce another class of Neural Networks name RNNs which is mostly used in the field of natural language processing.\n",
    "\n",
    " - RNN\n",
    " - GRU\n",
    " - LSTM\n",
    " - Bidirectional RNNs\n",
    " - Word Embedding\n",
    " - Sentiment Analysis; An Example of RNNs\n"
   ]
  },
  {
   "cell_type": "markdown",
   "metadata": {},
   "source": [
    "<h3>Session 7\n",
    "Recommendation Systems (2-3 hours)</h3>\n"
   ]
  },
  {
   "cell_type": "markdown",
   "metadata": {},
   "source": [
    "Recommendation systems are cool and very useful examples of machine learning applications. In here we briefly introduce them and different frameworks of recommendation engines.\n",
    "\n",
    " - Recommendation Systems; problem formulation\n",
    " - Collaborative Filtering\n",
    " - Matrix Factorization\n",
    " - Content-base Recommendation Systems\n"
   ]
  },
  {
   "cell_type": "markdown",
   "metadata": {},
   "source": [
    "<h3>Session 8\n",
    "Classical Natural Language Processing (3 hours)</h3>\n"
   ]
  },
  {
   "cell_type": "markdown",
   "metadata": {},
   "source": [
    "In RNN session we introduced DL base approaches of NLP. In here we will flash back to classical methods of NLP to better understand the field. We will review following concepts and methods:\n",
    "\n",
    " - Tokenization\n",
    " - Lemmatization \n",
    " - Stemming\n",
    " - Normalization\n",
    " - N-gram\n",
    " - TF-IDF\n"
   ]
  },
  {
   "cell_type": "markdown",
   "metadata": {},
   "source": [
    "<h2>Class Time</h2>"
   ]
  },
  {
   "cell_type": "markdown",
   "metadata": {},
   "source": [
    "Our classes will be held on <b>Sundays</b> and <b>Tuesdays</b>"
   ]
  },
  {
   "cell_type": "markdown",
   "metadata": {},
   "source": [
    "<h2>Contacts</h2>"
   ]
  },
  {
   "cell_type": "markdown",
   "metadata": {},
   "source": [
    "soheil.koohi@gmail.com"
   ]
  },
  {
   "cell_type": "markdown",
   "metadata": {},
   "source": [
    "<img src=\"images/any_questions.jpg\" alt=\"data science meme\" width=\"1600\" height=\"900\">"
   ]
  }
 ],
 "metadata": {
  "kernelspec": {
   "display_name": "Python 3",
   "language": "python",
   "name": "python3"
  },
  "language_info": {
   "codemirror_mode": {
    "name": "ipython",
    "version": 3
   },
   "file_extension": ".py",
   "mimetype": "text/x-python",
   "name": "python",
   "nbconvert_exporter": "python",
   "pygments_lexer": "ipython3",
   "version": "3.7.6"
  }
 },
 "nbformat": 4,
 "nbformat_minor": 4
}
