{
 "cells": [
  {
   "cell_type": "code",
   "execution_count": 1,
   "metadata": {},
   "outputs": [],
   "source": [
    "import numpy as np\n",
    "import pandas as pd"
   ]
  },
  {
   "cell_type": "code",
   "execution_count": 2,
   "metadata": {},
   "outputs": [
    {
     "name": "stdout",
     "output_type": "stream",
     "text": [
      "(10012, 24)\n"
     ]
    }
   ],
   "source": [
    "data = pd.read_csv('milan_houses_train.csv')\n",
    "print(data.shape)"
   ]
  },
  {
   "cell_type": "code",
   "execution_count": 3,
   "metadata": {},
   "outputs": [
    {
     "data": {
      "text/html": [
       "<div>\n",
       "<style scoped>\n",
       "    .dataframe tbody tr th:only-of-type {\n",
       "        vertical-align: middle;\n",
       "    }\n",
       "\n",
       "    .dataframe tbody tr th {\n",
       "        vertical-align: top;\n",
       "    }\n",
       "\n",
       "    .dataframe thead th {\n",
       "        text-align: right;\n",
       "    }\n",
       "</style>\n",
       "<table border=\"1\" class=\"dataframe\">\n",
       "  <thead>\n",
       "    <tr style=\"text-align: right;\">\n",
       "      <th></th>\n",
       "      <th>id</th>\n",
       "      <th>Ad date</th>\n",
       "      <th>Address</th>\n",
       "      <th>Air conditioning</th>\n",
       "      <th>Balcony</th>\n",
       "      <th>Bathrooms</th>\n",
       "      <th>Condition</th>\n",
       "      <th>Floor</th>\n",
       "      <th>Floor area</th>\n",
       "      <th>Furniture</th>\n",
       "      <th>...</th>\n",
       "      <th>Lift</th>\n",
       "      <th>Monthly charges</th>\n",
       "      <th>Price</th>\n",
       "      <th>Property type</th>\n",
       "      <th>Ref.</th>\n",
       "      <th>Rental income</th>\n",
       "      <th>Rooms</th>\n",
       "      <th>Terrace</th>\n",
       "      <th>Total floors</th>\n",
       "      <th>Zone</th>\n",
       "    </tr>\n",
       "  </thead>\n",
       "  <tbody>\n",
       "    <tr>\n",
       "      <th>0</th>\n",
       "      <td>aca03e28682e424f8886f8f2880cb3c1</td>\n",
       "      <td>7/8/2019</td>\n",
       "      <td>Milano</td>\n",
       "      <td>NaN</td>\n",
       "      <td>Yes</td>\n",
       "      <td>2</td>\n",
       "      <td>excellent/refurbished</td>\n",
       "      <td>1</td>\n",
       "      <td>55m²</td>\n",
       "      <td>Partly Furnished</td>\n",
       "      <td>...</td>\n",
       "      <td>NaN</td>\n",
       "      <td>50 € mensili</td>\n",
       "      <td>250</td>\n",
       "      <td>whole estate</td>\n",
       "      <td>AP250</td>\n",
       "      <td>NaN</td>\n",
       "      <td>2</td>\n",
       "      <td>NaN</td>\n",
       "      <td>4.0</td>\n",
       "      <td>Famagosta, Barona</td>\n",
       "    </tr>\n",
       "    <tr>\n",
       "      <th>1</th>\n",
       "      <td>a2a207aff0af4bb6a6f2b5aa511867d4</td>\n",
       "      <td>10/6/2019</td>\n",
       "      <td>Via Valle Antrona 1, Milano</td>\n",
       "      <td>NaN</td>\n",
       "      <td>NaN</td>\n",
       "      <td>1</td>\n",
       "      <td>to be refurbished</td>\n",
       "      <td>2</td>\n",
       "      <td>86m²</td>\n",
       "      <td>NaN</td>\n",
       "      <td>...</td>\n",
       "      <td>NaN</td>\n",
       "      <td>120 € mensili</td>\n",
       "      <td>138</td>\n",
       "      <td>NaN</td>\n",
       "      <td>NaN</td>\n",
       "      <td>NaN</td>\n",
       "      <td>2</td>\n",
       "      <td>NaN</td>\n",
       "      <td>2.0</td>\n",
       "      <td>Bisceglie, Baggio, Olmi</td>\n",
       "    </tr>\n",
       "    <tr>\n",
       "      <th>2</th>\n",
       "      <td>b8038f6bb10a47d0b9e8773f32a75cea</td>\n",
       "      <td>15/04/2019</td>\n",
       "      <td>Via Luigi Angeloni 33,  Milano</td>\n",
       "      <td>Yes</td>\n",
       "      <td>Yes</td>\n",
       "      <td>1</td>\n",
       "      <td>excellent/refurbished</td>\n",
       "      <td>1</td>\n",
       "      <td>58m²</td>\n",
       "      <td>Unfurnished</td>\n",
       "      <td>...</td>\n",
       "      <td>Yes</td>\n",
       "      <td>150 € mensili</td>\n",
       "      <td>129</td>\n",
       "      <td>whole estate</td>\n",
       "      <td>26480 (1304)</td>\n",
       "      <td>NaN</td>\n",
       "      <td>2</td>\n",
       "      <td>NaN</td>\n",
       "      <td>4.0</td>\n",
       "      <td>NaN</td>\n",
       "    </tr>\n",
       "    <tr>\n",
       "      <th>3</th>\n",
       "      <td>287243aa6601444685516f2d5a3b6156</td>\n",
       "      <td>5/6/2019</td>\n",
       "      <td>Via Enrico Sertoli,  Milano</td>\n",
       "      <td>NaN</td>\n",
       "      <td>Yes</td>\n",
       "      <td>2</td>\n",
       "      <td>excellent/refurbished</td>\n",
       "      <td>2</td>\n",
       "      <td>90m²</td>\n",
       "      <td>Unfurnished</td>\n",
       "      <td>...</td>\n",
       "      <td>Yes</td>\n",
       "      <td>NaN</td>\n",
       "      <td>228</td>\n",
       "      <td>whole estate</td>\n",
       "      <td>NaN</td>\n",
       "      <td>NaN</td>\n",
       "      <td>3</td>\n",
       "      <td>Yes</td>\n",
       "      <td>2.0</td>\n",
       "      <td>Affori, Bovisa</td>\n",
       "    </tr>\n",
       "    <tr>\n",
       "      <th>4</th>\n",
       "      <td>335e2f47d0f84f58bd06fa63115d451d</td>\n",
       "      <td>19/07/2019</td>\n",
       "      <td>Via Monfalcone 23, Milano</td>\n",
       "      <td>NaN</td>\n",
       "      <td>NaN</td>\n",
       "      <td>1</td>\n",
       "      <td>buono / abitabile</td>\n",
       "      <td>raised floor</td>\n",
       "      <td>45m²</td>\n",
       "      <td>Unfurnished</td>\n",
       "      <td>...</td>\n",
       "      <td>Yes</td>\n",
       "      <td>100 € mensili</td>\n",
       "      <td>123</td>\n",
       "      <td>whole estate</td>\n",
       "      <td>40139244</td>\n",
       "      <td>NaN</td>\n",
       "      <td>2</td>\n",
       "      <td>NaN</td>\n",
       "      <td>5.0</td>\n",
       "      <td>Cimiano, Crescenzago, Adriano</td>\n",
       "    </tr>\n",
       "  </tbody>\n",
       "</table>\n",
       "<p>5 rows × 24 columns</p>\n",
       "</div>"
      ],
      "text/plain": [
       "                                 id     Ad date  \\\n",
       "0  aca03e28682e424f8886f8f2880cb3c1    7/8/2019   \n",
       "1  a2a207aff0af4bb6a6f2b5aa511867d4   10/6/2019   \n",
       "2  b8038f6bb10a47d0b9e8773f32a75cea  15/04/2019   \n",
       "3  287243aa6601444685516f2d5a3b6156    5/6/2019   \n",
       "4  335e2f47d0f84f58bd06fa63115d451d  19/07/2019   \n",
       "\n",
       "                          Address Air conditioning Balcony Bathrooms  \\\n",
       "0                          Milano              NaN     Yes         2   \n",
       "1     Via Valle Antrona 1, Milano              NaN     NaN         1   \n",
       "2  Via Luigi Angeloni 33,  Milano              Yes     Yes         1   \n",
       "3     Via Enrico Sertoli,  Milano              NaN     Yes         2   \n",
       "4       Via Monfalcone 23, Milano              NaN     NaN         1   \n",
       "\n",
       "               Condition         Floor Floor area         Furniture  ... Lift  \\\n",
       "0  excellent/refurbished             1       55m²  Partly Furnished  ...  NaN   \n",
       "1      to be refurbished             2       86m²               NaN  ...  NaN   \n",
       "2  excellent/refurbished             1       58m²       Unfurnished  ...  Yes   \n",
       "3  excellent/refurbished             2       90m²       Unfurnished  ...  Yes   \n",
       "4      buono / abitabile  raised floor       45m²       Unfurnished  ...  Yes   \n",
       "\n",
       "  Monthly charges Price Property type          Ref. Rental income Rooms  \\\n",
       "0    50 € mensili   250  whole estate         AP250           NaN     2   \n",
       "1   120 € mensili   138           NaN           NaN           NaN     2   \n",
       "2   150 € mensili   129  whole estate  26480 (1304)           NaN     2   \n",
       "3             NaN   228  whole estate           NaN           NaN     3   \n",
       "4   100 € mensili   123  whole estate      40139244           NaN     2   \n",
       "\n",
       "  Terrace Total floors                           Zone  \n",
       "0     NaN          4.0              Famagosta, Barona  \n",
       "1     NaN          2.0        Bisceglie, Baggio, Olmi  \n",
       "2     NaN          4.0                            NaN  \n",
       "3     Yes          2.0                 Affori, Bovisa  \n",
       "4     NaN          5.0  Cimiano, Crescenzago, Adriano  \n",
       "\n",
       "[5 rows x 24 columns]"
      ]
     },
     "execution_count": 3,
     "metadata": {},
     "output_type": "execute_result"
    }
   ],
   "source": [
    "data.head()"
   ]
  },
  {
   "cell_type": "code",
   "execution_count": 4,
   "metadata": {},
   "outputs": [
    {
     "data": {
      "text/plain": [
       "id                     0\n",
       "Ad date                0\n",
       "Address                0\n",
       "Air conditioning    8070\n",
       "Balcony             4320\n",
       "Bathrooms            393\n",
       "Condition            596\n",
       "Floor                820\n",
       "Floor area             3\n",
       "Furniture           2639\n",
       "Garage              2246\n",
       "Garden              1746\n",
       "Heating              503\n",
       "Kitchen              722\n",
       "Lift                2693\n",
       "Monthly charges     2698\n",
       "Price                  0\n",
       "Property type       1100\n",
       "Ref.                1499\n",
       "Rental income       9793\n",
       "Rooms                 86\n",
       "Terrace             7338\n",
       "Total floors         832\n",
       "Zone                3959\n",
       "dtype: int64"
      ]
     },
     "execution_count": 4,
     "metadata": {},
     "output_type": "execute_result"
    }
   ],
   "source": [
    "data.isnull().sum()"
   ]
  },
  {
   "cell_type": "code",
   "execution_count": 5,
   "metadata": {},
   "outputs": [],
   "source": [
    "train = data.drop(['Air conditioning', 'Rental income', 'Terrace' ,'Ad date', 'Condition', 'Ref.', 'id',\n",
    "                         'Ad date', 'Address', 'Balcony', 'Rental income', 'Terrace', 'Kitchen','Lift',\n",
    "                         'Garage', 'Zone','Property type'], axis=1)"
   ]
  },
  {
   "cell_type": "code",
   "execution_count": 7,
   "metadata": {},
   "outputs": [
    {
     "data": {
      "text/plain": [
       "Bathrooms           393\n",
       "Floor               820\n",
       "Floor area            3\n",
       "Furniture          2639\n",
       "Garden             1746\n",
       "Heating             503\n",
       "Monthly charges    2698\n",
       "Price                 0\n",
       "Rooms                86\n",
       "Total floors        832\n",
       "dtype: int64"
      ]
     },
     "execution_count": 7,
     "metadata": {},
     "output_type": "execute_result"
    }
   ],
   "source": [
    "train.isnull().sum()"
   ]
  },
  {
   "cell_type": "markdown",
   "metadata": {},
   "source": [
    "# Monthly-charges preprocessing"
   ]
  },
  {
   "cell_type": "code",
   "execution_count": 8,
   "metadata": {},
   "outputs": [],
   "source": [
    "train['Monthly charges'] = train['Monthly charges'].str.replace(\"€ mensili\" , \"\").astype(np.float32)"
   ]
  },
  {
   "cell_type": "code",
   "execution_count": 7,
   "metadata": {},
   "outputs": [],
   "source": [
    "train['Monthly charges'].dropna(inplace=True)"
   ]
  },
  {
   "cell_type": "code",
   "execution_count": 8,
   "metadata": {},
   "outputs": [
    {
     "data": {
      "text/plain": [
       "dtype('float32')"
      ]
     },
     "execution_count": 8,
     "metadata": {},
     "output_type": "execute_result"
    }
   ],
   "source": [
    "train['Monthly charges'].dtype"
   ]
  },
  {
   "cell_type": "code",
   "execution_count": 9,
   "metadata": {},
   "outputs": [
    {
     "data": {
      "text/plain": [
       "0"
      ]
     },
     "execution_count": 9,
     "metadata": {},
     "output_type": "execute_result"
    }
   ],
   "source": [
    "train['Monthly charges'].isnull().sum()"
   ]
  },
  {
   "cell_type": "code",
   "execution_count": 10,
   "metadata": {
    "scrolled": true
   },
   "outputs": [
    {
     "data": {
      "text/plain": [
       "array([ 50.        , 120.        , 150.        , 100.        ,\n",
       "        70.        , 300.        , 208.        ,  40.        ,\n",
       "       234.        ,   2.08299994, 500.        , 125.        ,\n",
       "       275.        , 250.        ,  35.        , 417.        ,\n",
       "       108.        , 210.        , 410.        , 200.        ,\n",
       "       230.        , 220.        , 130.        , 583.        ,\n",
       "       185.        , 750.        ,  20.        ,  80.        ,\n",
       "         1.        ,  65.        , 375.        ,   1.66700006,\n",
       "       475.        , 350.        , 160.        , 117.        ,\n",
       "        83.        , 157.        , 180.        ,  30.        ,\n",
       "       508.        , 400.        , 215.        ,  58.        ,\n",
       "       175.        , 625.        , 600.        , 420.        ,\n",
       "        85.        ,  92.        , 110.        ,  90.        ,\n",
       "       135.        ,  60.        , 280.        ,  67.        ,\n",
       "       316.        , 254.        , 550.        , 142.        ,\n",
       "         2.20000005, 450.        , 240.        ,   1.29999995,\n",
       "        63.        ,  91.        , 155.        , 217.        ,\n",
       "        75.        , 265.        , 792.        , 330.        ,\n",
       "       260.        , 299.        , 263.        , 140.        ,\n",
       "       166.        , 167.        , 333.        , 225.        ,\n",
       "        18.29999924, 683.        ,   2.4000001 , 290.        ,\n",
       "         1.60399997, 390.        , 158.        , 359.        ,\n",
       "       423.        , 183.        , 159.        , 270.        ,\n",
       "       335.        ,   6.        , 258.        ,   1.25      ,\n",
       "       302.        ,  15.        , 204.        , 126.        ,\n",
       "       146.        , 415.        , 560.        , 598.        ,\n",
       "       153.        , 950.        ,   1.5       , 708.        ,\n",
       "       165.        , 320.        , 133.        ,   3.        ,\n",
       "       850.        ,  55.        , 380.        , 700.        ,\n",
       "       317.        , 190.        ,   2.5       ,  25.        ,\n",
       "       122.        , 235.        , 233.        , 541.        ,\n",
       "       540.        , 470.        , 416.        ,  10.        ,\n",
       "       458.        , 139.        , 255.        , 112.        ,\n",
       "       831.        ,  42.        , 917.        , 365.        ,\n",
       "       680.        , 145.        , 460.        , 292.        ,\n",
       "       308.        ,   1.79999995, 730.        , 833.        ,\n",
       "       170.        , 360.        , 241.        ,   1.125     ,\n",
       "       195.        , 650.        , 800.        ,   1.20000005,\n",
       "       121.        , 192.        , 484.        , 378.        ,\n",
       "        87.        , 580.        ,   1.64999998,   1.10000002,\n",
       "       432.        , 116.        ,  66.        , 667.        ,\n",
       "        28.        ,   6.5       , 105.        ,  96.        ,\n",
       "        84.        , 288.        , 660.        , 382.        ,\n",
       "         1.39999998, 115.        , 585.        , 196.        ,\n",
       "       840.        , 168.        , 245.        ,   4.98000002,\n",
       "       670.        ,  46.        , 305.        , 835.        ,\n",
       "       430.        ,  13.        ,  79.        , 875.        ,\n",
       "       109.        ,  78.        ,   3.79999995, 163.        ,\n",
       "       920.        , 900.        , 119.        , 182.        ,\n",
       "       915.        ,  71.        , 283.        ,  45.        ,\n",
       "       271.        , 490.        , 567.        , 483.        ,\n",
       "       242.        , 709.        , 391.        , 370.        ,\n",
       "       171.        ,   1.56700003, 141.        , 193.        ,\n",
       "       325.        ,   1.60000002, 205.        ,   1.33299994,\n",
       "         8.5       , 267.        , 138.        , 442.        ,\n",
       "        41.        ,   1.70000005, 834.        ,   5.30000019,\n",
       "         2.79999995,   3.20000005, 340.        , 620.        ,\n",
       "       184.        ,   4.5       ,   2.        , 542.        ,\n",
       "       187.        , 469.        ,   1.13      , 266.        ,\n",
       "       334.        ,   2.91700006,   4.        ,  73.        ,\n",
       "       310.        , 975.        , 635.        , 940.        ,\n",
       "       291.        ,   3.5999999 ,   0.        , 467.        ,\n",
       "        48.        ,   1.89999998,  77.        , 154.        ,\n",
       "       440.        , 104.        , 916.        , 480.        ,\n",
       "       287.        ,  88.        , 485.        ,   5.        ,\n",
       "       216.        , 279.        , 137.        , 321.        ,\n",
       "         4.19999981,   1.41700006, 407.        ,   2.70000005,\n",
       "        54.        , 186.        , 444.        , 558.        ,\n",
       "        61.        , 583.33300781,  24.        , 188.        ,\n",
       "        33.        ,  16.70000076, 209.        , 720.        ,\n",
       "       818.        , 169.        ,  62.        , 733.        ,\n",
       "       665.        , 134.        , 113.        , 958.        ,\n",
       "       791.        , 763.        , 345.        , 112.91699982,\n",
       "         7.19999981, 525.        , 389.        , 179.        ,\n",
       "       144.        , 303.        , 516.        , 666.        ,\n",
       "       276.        ,   1.65999997, 191.        ,  12.        ,\n",
       "       406.        ,   1.15999997,   1.14999998,   2.9000001 ,\n",
       "       149.        ,  18.        ,   3.29999995, 830.        ,\n",
       "       433.        , 392.        , 356.        , 590.        ,\n",
       "        89.        , 394.        , 449.        , 344.        ,\n",
       "       384.        ,  29.        , 357.        , 492.        ,\n",
       "       346.        , 970.        ,   1.33000004, 358.        ,\n",
       "       546.        , 754.        ,   1.16600001, 123.        ,\n",
       "        16.        , 111.        , 597.        , 372.        ,\n",
       "       129.        , 403.        , 520.        , 434.        ,\n",
       "       162.        , 880.        , 341.        , 366.        ,\n",
       "       295.        ,   4.44999981,   1.21599996,   7.        ,\n",
       "         1.16700006,  36.        ,  95.        , 383.        ,\n",
       "         3.4000001 , 422.        , 227.        , 221.        ,\n",
       "       156.        ,  72.        ,   2.523     ,   9.        ,\n",
       "         1.04999995,   5.5       , 632.        , 595.        ,\n",
       "       124.        , 761.        , 576.        , 315.        ,\n",
       "         2.29999995,  22.        , 717.        ,   1.38      ,\n",
       "         2.67000008,  17.        ,  64.        ,   3.5       ,\n",
       "         1.85000002, 425.        , 282.        , 808.        ,\n",
       "         1.08299994, 374.        , 257.        , 177.        ,\n",
       "         3.70000005,  34.        ,   2.5999999 , 322.        ,\n",
       "       740.        ,  52.        , 421.        , 143.        ,\n",
       "       277.        ,  23.        , 238.        , 744.        ,\n",
       "       675.        , 128.        , 118.        ,  21.        ,\n",
       "        47.        ,   5.5999999 ,   2.0999999 , 259.        ,\n",
       "       313.        , 710.        , 306.        , 847.        ,\n",
       "       363.        , 338.        , 719.        ,   4.0999999 ,\n",
       "       273.        , 194.        ])"
      ]
     },
     "execution_count": 10,
     "metadata": {},
     "output_type": "execute_result"
    }
   ],
   "source": [
    "train['Monthly charges'].unique()"
   ]
  },
  {
   "cell_type": "markdown",
   "metadata": {},
   "source": [
    "# Price preprocessing"
   ]
  },
  {
   "cell_type": "code",
   "execution_count": 13,
   "metadata": {},
   "outputs": [
    {
     "name": "stdout",
     "output_type": "stream",
     "text": [
      "0\n"
     ]
    }
   ],
   "source": [
    "print(train[train['Price'] == 'Prezzosurichiesta'].shape[0])"
   ]
  },
  {
   "cell_type": "code",
   "execution_count": 12,
   "metadata": {},
   "outputs": [],
   "source": [
    "train.drop(train.index[train['Price'] == 'Prezzosurichiesta'], inplace = True)"
   ]
  },
  {
   "cell_type": "code",
   "execution_count": 14,
   "metadata": {},
   "outputs": [],
   "source": [
    "train['Price'] = train['Price'].str.replace('.', '')"
   ]
  },
  {
   "cell_type": "code",
   "execution_count": 15,
   "metadata": {},
   "outputs": [],
   "source": [
    "train['Price'] = train['Price'].str.replace('permonth', '')"
   ]
  },
  {
   "cell_type": "code",
   "execution_count": 16,
   "metadata": {},
   "outputs": [],
   "source": [
    "train['Price'] = train['Price'].astype(np.float32)"
   ]
  },
  {
   "cell_type": "code",
   "execution_count": 17,
   "metadata": {},
   "outputs": [],
   "source": [
    "train['Price'] = np.where(train['Price'] < 1000.0, train['Price']*1000 , train['Price'])"
   ]
  },
  {
   "cell_type": "markdown",
   "metadata": {},
   "source": [
    "# Floor area preprocessing"
   ]
  },
  {
   "cell_type": "code",
   "execution_count": 18,
   "metadata": {},
   "outputs": [],
   "source": [
    "train['Floor area'] = train['Floor area'].str.replace(\"m²\" , \"\").astype(np.float32)"
   ]
  },
  {
   "cell_type": "code",
   "execution_count": 19,
   "metadata": {},
   "outputs": [
    {
     "data": {
      "text/plain": [
       "dtype('float32')"
      ]
     },
     "execution_count": 19,
     "metadata": {},
     "output_type": "execute_result"
    }
   ],
   "source": [
    "train['Floor area'].dtype"
   ]
  },
  {
   "cell_type": "code",
   "execution_count": 20,
   "metadata": {},
   "outputs": [
    {
     "data": {
      "text/plain": [
       "2"
      ]
     },
     "execution_count": 20,
     "metadata": {},
     "output_type": "execute_result"
    }
   ],
   "source": [
    "train['Floor area'].isnull().sum()"
   ]
  },
  {
   "cell_type": "code",
   "execution_count": 21,
   "metadata": {},
   "outputs": [],
   "source": [
    "train['Floor area'].dropna(inplace=True)"
   ]
  },
  {
   "cell_type": "code",
   "execution_count": 22,
   "metadata": {},
   "outputs": [
    {
     "data": {
      "text/plain": [
       "0"
      ]
     },
     "execution_count": 22,
     "metadata": {},
     "output_type": "execute_result"
    }
   ],
   "source": [
    "train['Floor area'].isnull().sum()"
   ]
  },
  {
   "cell_type": "markdown",
   "metadata": {},
   "source": [
    "# Furniture preprocessing"
   ]
  },
  {
   "cell_type": "code",
   "execution_count": 23,
   "metadata": {},
   "outputs": [
    {
     "data": {
      "text/plain": [
       "array(['Partly Furnished', nan, 'Unfurnished', 'Furnished',\n",
       "       'solo cucina arredata'], dtype=object)"
      ]
     },
     "execution_count": 23,
     "metadata": {},
     "output_type": "execute_result"
    }
   ],
   "source": [
    "train['Furniture'].unique()"
   ]
  },
  {
   "cell_type": "code",
   "execution_count": 24,
   "metadata": {},
   "outputs": [],
   "source": [
    "train['Furniture'] = train['Furniture'].str.replace(\"solo cucina arredata\" , \"Furnished\")"
   ]
  },
  {
   "cell_type": "code",
   "execution_count": 25,
   "metadata": {},
   "outputs": [
    {
     "data": {
      "text/plain": [
       "2495"
      ]
     },
     "execution_count": 25,
     "metadata": {},
     "output_type": "execute_result"
    }
   ],
   "source": [
    "train['Furniture'].isnull().sum()"
   ]
  },
  {
   "cell_type": "code",
   "execution_count": 26,
   "metadata": {},
   "outputs": [],
   "source": [
    "train['Furniture'].dropna(inplace=True)"
   ]
  },
  {
   "cell_type": "code",
   "execution_count": 27,
   "metadata": {},
   "outputs": [
    {
     "data": {
      "text/plain": [
       "array(['Partly Furnished', 'Unfurnished', 'Furnished'], dtype=object)"
      ]
     },
     "execution_count": 27,
     "metadata": {},
     "output_type": "execute_result"
    }
   ],
   "source": [
    "train['Furniture'].unique()"
   ]
  },
  {
   "cell_type": "code",
   "execution_count": 29,
   "metadata": {},
   "outputs": [],
   "source": [
    "train['Furniture'] = pd.get_dummies(train['Furniture'])"
   ]
  },
  {
   "cell_type": "code",
   "execution_count": 28,
   "metadata": {},
   "outputs": [
    {
     "data": {
      "text/plain": [
       "0"
      ]
     },
     "execution_count": 28,
     "metadata": {},
     "output_type": "execute_result"
    }
   ],
   "source": [
    "train['Furniture'].isnull().sum()"
   ]
  },
  {
   "cell_type": "markdown",
   "metadata": {},
   "source": [
    "# Heating preprocessing"
   ]
  },
  {
   "cell_type": "code",
   "execution_count": 30,
   "metadata": {},
   "outputs": [
    {
     "data": {
      "text/plain": [
       "array(['Autonomous', 'Communal', nan, 'None'], dtype=object)"
      ]
     },
     "execution_count": 30,
     "metadata": {},
     "output_type": "execute_result"
    }
   ],
   "source": [
    "train['Heating'].unique()"
   ]
  },
  {
   "cell_type": "code",
   "execution_count": 31,
   "metadata": {},
   "outputs": [],
   "source": [
    "train['Heating'].dropna(inplace=True)"
   ]
  },
  {
   "cell_type": "code",
   "execution_count": 32,
   "metadata": {},
   "outputs": [
    {
     "data": {
      "text/plain": [
       "array(['Autonomous', 'Communal', 'None'], dtype=object)"
      ]
     },
     "execution_count": 32,
     "metadata": {},
     "output_type": "execute_result"
    }
   ],
   "source": [
    "train['Heating'].unique()"
   ]
  },
  {
   "cell_type": "code",
   "execution_count": 33,
   "metadata": {},
   "outputs": [
    {
     "data": {
      "text/plain": [
       "0"
      ]
     },
     "execution_count": 33,
     "metadata": {},
     "output_type": "execute_result"
    }
   ],
   "source": [
    "train['Heating'].isnull().sum()"
   ]
  },
  {
   "cell_type": "code",
   "execution_count": 34,
   "metadata": {},
   "outputs": [],
   "source": [
    "train['Heating'] = pd.get_dummies(train['Heating'])"
   ]
  },
  {
   "cell_type": "markdown",
   "metadata": {},
   "source": [
    "# Floor preprocessing"
   ]
  },
  {
   "cell_type": "code",
   "execution_count": 35,
   "metadata": {},
   "outputs": [
    {
     "data": {
      "text/plain": [
       "array(['1', '2', 'raised floor', '>10', '8', 'Ground floor', '7', '3',\n",
       "       'last floor', nan, '4', 'multi-level', '5', '6', '9',\n",
       "       'seminterrato', 'ammezzato', 'basement', '10', 'scantinato'],\n",
       "      dtype=object)"
      ]
     },
     "execution_count": 35,
     "metadata": {},
     "output_type": "execute_result"
    }
   ],
   "source": [
    "train['Floor'].unique()"
   ]
  },
  {
   "cell_type": "code",
   "execution_count": 46,
   "metadata": {},
   "outputs": [],
   "source": [
    "train['Total floors'] = train['Total floors'].astype(np.float32)"
   ]
  },
  {
   "cell_type": "code",
   "execution_count": 36,
   "metadata": {},
   "outputs": [],
   "source": [
    "train['Floor'] = np.where(train['Floor'] == 'last floor', train['Total floors'] , train['Floor'])"
   ]
  },
  {
   "cell_type": "code",
   "execution_count": 37,
   "metadata": {},
   "outputs": [],
   "source": [
    "train['Floor'] = np.where(train['Floor'] == 'raised floor', 0.0, train['Floor'])"
   ]
  },
  {
   "cell_type": "code",
   "execution_count": 38,
   "metadata": {},
   "outputs": [],
   "source": [
    "train['Floor'] = np.where(train['Floor'] == 'seminterrato', 0.0, train['Floor'])"
   ]
  },
  {
   "cell_type": "code",
   "execution_count": 39,
   "metadata": {},
   "outputs": [],
   "source": [
    "train['Floor'] = np.where(train['Floor'] == 'Ground floor', 0.0, train['Floor'])"
   ]
  },
  {
   "cell_type": "code",
   "execution_count": 40,
   "metadata": {},
   "outputs": [],
   "source": [
    "train['Floor'] = np.where(train['Floor'] == 'ammezzato', 1.0, train['Floor'])"
   ]
  },
  {
   "cell_type": "code",
   "execution_count": 41,
   "metadata": {},
   "outputs": [],
   "source": [
    "train['Floor'] = np.where(train['Floor'] == 'multi-level', 2.0, train['Floor'])"
   ]
  },
  {
   "cell_type": "code",
   "execution_count": 42,
   "metadata": {},
   "outputs": [],
   "source": [
    "train['Floor'] = np.where(train['Floor'] == 'basement', -1.0, train['Floor'])"
   ]
  },
  {
   "cell_type": "code",
   "execution_count": 43,
   "metadata": {},
   "outputs": [],
   "source": [
    "train['Floor'] = np.where(train['Floor'] == 'scantinato', -1.0, train['Floor'])"
   ]
  },
  {
   "cell_type": "code",
   "execution_count": 44,
   "metadata": {},
   "outputs": [],
   "source": [
    "train['Floor'] = train['Floor'].str.replace(\">\" , '')"
   ]
  },
  {
   "cell_type": "code",
   "execution_count": 45,
   "metadata": {},
   "outputs": [
    {
     "data": {
      "text/plain": [
       "array(['1', '2', nan, '10', '8', '7', '3', '4', '5', '6', '9'],\n",
       "      dtype=object)"
      ]
     },
     "execution_count": 45,
     "metadata": {},
     "output_type": "execute_result"
    }
   ],
   "source": [
    "train['Floor'].unique()"
   ]
  },
  {
   "cell_type": "code",
   "execution_count": 47,
   "metadata": {},
   "outputs": [
    {
     "data": {
      "text/plain": [
       "3815"
      ]
     },
     "execution_count": 47,
     "metadata": {},
     "output_type": "execute_result"
    }
   ],
   "source": [
    "train['Floor'].isnull().sum()"
   ]
  },
  {
   "cell_type": "code",
   "execution_count": 48,
   "metadata": {},
   "outputs": [],
   "source": [
    "train['Floor'].dropna(inplace=True)"
   ]
  },
  {
   "cell_type": "code",
   "execution_count": 50,
   "metadata": {},
   "outputs": [],
   "source": [
    "train['Floor'] = train['Floor'].astype(np.float32)"
   ]
  },
  {
   "cell_type": "code",
   "execution_count": 51,
   "metadata": {},
   "outputs": [
    {
     "data": {
      "text/plain": [
       "dtype('float32')"
      ]
     },
     "execution_count": 51,
     "metadata": {},
     "output_type": "execute_result"
    }
   ],
   "source": [
    "train['Floor'].dtype"
   ]
  },
  {
   "cell_type": "markdown",
   "metadata": {},
   "source": [
    "# Rooms preprocessing"
   ]
  },
  {
   "cell_type": "code",
   "execution_count": 52,
   "metadata": {},
   "outputs": [
    {
     "data": {
      "text/plain": [
       "array(['2', '3', '4', '1', '>5', '5', nan], dtype=object)"
      ]
     },
     "execution_count": 52,
     "metadata": {},
     "output_type": "execute_result"
    }
   ],
   "source": [
    "train['Rooms'].unique()"
   ]
  },
  {
   "cell_type": "code",
   "execution_count": 53,
   "metadata": {},
   "outputs": [],
   "source": [
    "train['Rooms'] = np.where(train['Rooms'] == '>5', '6', train['Rooms'])"
   ]
  },
  {
   "cell_type": "code",
   "execution_count": 54,
   "metadata": {},
   "outputs": [
    {
     "data": {
      "text/plain": [
       "71"
      ]
     },
     "execution_count": 54,
     "metadata": {},
     "output_type": "execute_result"
    }
   ],
   "source": [
    "train['Rooms'].isnull().sum()"
   ]
  },
  {
   "cell_type": "code",
   "execution_count": 55,
   "metadata": {},
   "outputs": [],
   "source": [
    "train['Rooms'].dropna(inplace=True)"
   ]
  },
  {
   "cell_type": "code",
   "execution_count": 56,
   "metadata": {},
   "outputs": [],
   "source": [
    "train['Rooms'] = train['Rooms'].astype(np.float32)"
   ]
  },
  {
   "cell_type": "code",
   "execution_count": 57,
   "metadata": {},
   "outputs": [
    {
     "data": {
      "text/plain": [
       "dtype('float32')"
      ]
     },
     "execution_count": 57,
     "metadata": {},
     "output_type": "execute_result"
    }
   ],
   "source": [
    "train['Rooms'].dtype"
   ]
  },
  {
   "cell_type": "markdown",
   "metadata": {},
   "source": [
    "# Bathrooms preprocessing"
   ]
  },
  {
   "cell_type": "code",
   "execution_count": 58,
   "metadata": {},
   "outputs": [
    {
     "data": {
      "text/plain": [
       "array(['2', '1', '>3', nan, '3'], dtype=object)"
      ]
     },
     "execution_count": 58,
     "metadata": {},
     "output_type": "execute_result"
    }
   ],
   "source": [
    "train['Bathrooms'].unique()"
   ]
  },
  {
   "cell_type": "code",
   "execution_count": 59,
   "metadata": {},
   "outputs": [],
   "source": [
    "train['Bathrooms'] = np.where(train['Bathrooms'] == '>3', '4', train['Bathrooms'])"
   ]
  },
  {
   "cell_type": "code",
   "execution_count": 60,
   "metadata": {},
   "outputs": [
    {
     "data": {
      "text/plain": [
       "362"
      ]
     },
     "execution_count": 60,
     "metadata": {},
     "output_type": "execute_result"
    }
   ],
   "source": [
    "train['Bathrooms'].isnull().sum()"
   ]
  },
  {
   "cell_type": "code",
   "execution_count": 71,
   "metadata": {},
   "outputs": [],
   "source": [
    "train['Bathrooms'] = train['Bathrooms'].dropna()"
   ]
  },
  {
   "cell_type": "code",
   "execution_count": 72,
   "metadata": {},
   "outputs": [],
   "source": [
    "train['Bathrooms'] = train['Bathrooms'].astype(np.float32)"
   ]
  },
  {
   "cell_type": "code",
   "execution_count": 63,
   "metadata": {},
   "outputs": [],
   "source": [
    "train = train.drop(['Garden'], axis=1)"
   ]
  },
  {
   "cell_type": "code",
   "execution_count": 73,
   "metadata": {},
   "outputs": [
    {
     "data": {
      "text/plain": [
       "362"
      ]
     },
     "execution_count": 73,
     "metadata": {},
     "output_type": "execute_result"
    }
   ],
   "source": [
    "train['Bathrooms'].isnull().sum()"
   ]
  },
  {
   "cell_type": "code",
   "execution_count": 64,
   "metadata": {},
   "outputs": [
    {
     "name": "stdout",
     "output_type": "stream",
     "text": [
      "<class 'pandas.core.frame.DataFrame'>\n",
      "Int64Index: 9533 entries, 0 to 10011\n",
      "Data columns (total 9 columns):\n",
      "Bathrooms          9171 non-null float32\n",
      "Floor              5718 non-null float32\n",
      "Floor area         9531 non-null float32\n",
      "Furniture          7038 non-null float64\n",
      "Heating            9073 non-null float64\n",
      "Monthly charges    7059 non-null float32\n",
      "Price              9533 non-null float32\n",
      "Rooms              9462 non-null float32\n",
      "Total floors       8744 non-null float32\n",
      "dtypes: float32(7), float64(2)\n",
      "memory usage: 484.1 KB\n"
     ]
    }
   ],
   "source": [
    "train.info()"
   ]
  },
  {
   "cell_type": "code",
   "execution_count": 65,
   "metadata": {},
   "outputs": [
    {
     "data": {
      "text/html": [
       "<div>\n",
       "<style scoped>\n",
       "    .dataframe tbody tr th:only-of-type {\n",
       "        vertical-align: middle;\n",
       "    }\n",
       "\n",
       "    .dataframe tbody tr th {\n",
       "        vertical-align: top;\n",
       "    }\n",
       "\n",
       "    .dataframe thead th {\n",
       "        text-align: right;\n",
       "    }\n",
       "</style>\n",
       "<table border=\"1\" class=\"dataframe\">\n",
       "  <thead>\n",
       "    <tr style=\"text-align: right;\">\n",
       "      <th></th>\n",
       "      <th>Bathrooms</th>\n",
       "      <th>Floor</th>\n",
       "      <th>Floor area</th>\n",
       "      <th>Furniture</th>\n",
       "      <th>Heating</th>\n",
       "      <th>Monthly charges</th>\n",
       "      <th>Price</th>\n",
       "      <th>Rooms</th>\n",
       "      <th>Total floors</th>\n",
       "    </tr>\n",
       "  </thead>\n",
       "  <tbody>\n",
       "    <tr>\n",
       "      <td>0</td>\n",
       "      <td>2.0</td>\n",
       "      <td>1.0</td>\n",
       "      <td>55.0</td>\n",
       "      <td>0.0</td>\n",
       "      <td>1.0</td>\n",
       "      <td>50.0</td>\n",
       "      <td>250000.0</td>\n",
       "      <td>2.0</td>\n",
       "      <td>4.0</td>\n",
       "    </tr>\n",
       "    <tr>\n",
       "      <td>1</td>\n",
       "      <td>1.0</td>\n",
       "      <td>2.0</td>\n",
       "      <td>86.0</td>\n",
       "      <td>NaN</td>\n",
       "      <td>0.0</td>\n",
       "      <td>120.0</td>\n",
       "      <td>138000.0</td>\n",
       "      <td>2.0</td>\n",
       "      <td>2.0</td>\n",
       "    </tr>\n",
       "    <tr>\n",
       "      <td>2</td>\n",
       "      <td>1.0</td>\n",
       "      <td>1.0</td>\n",
       "      <td>58.0</td>\n",
       "      <td>0.0</td>\n",
       "      <td>0.0</td>\n",
       "      <td>150.0</td>\n",
       "      <td>129000.0</td>\n",
       "      <td>2.0</td>\n",
       "      <td>4.0</td>\n",
       "    </tr>\n",
       "    <tr>\n",
       "      <td>3</td>\n",
       "      <td>2.0</td>\n",
       "      <td>2.0</td>\n",
       "      <td>90.0</td>\n",
       "      <td>0.0</td>\n",
       "      <td>1.0</td>\n",
       "      <td>NaN</td>\n",
       "      <td>228000.0</td>\n",
       "      <td>3.0</td>\n",
       "      <td>2.0</td>\n",
       "    </tr>\n",
       "    <tr>\n",
       "      <td>4</td>\n",
       "      <td>1.0</td>\n",
       "      <td>NaN</td>\n",
       "      <td>45.0</td>\n",
       "      <td>0.0</td>\n",
       "      <td>0.0</td>\n",
       "      <td>100.0</td>\n",
       "      <td>123000.0</td>\n",
       "      <td>2.0</td>\n",
       "      <td>5.0</td>\n",
       "    </tr>\n",
       "    <tr>\n",
       "      <td>...</td>\n",
       "      <td>...</td>\n",
       "      <td>...</td>\n",
       "      <td>...</td>\n",
       "      <td>...</td>\n",
       "      <td>...</td>\n",
       "      <td>...</td>\n",
       "      <td>...</td>\n",
       "      <td>...</td>\n",
       "      <td>...</td>\n",
       "    </tr>\n",
       "    <tr>\n",
       "      <td>10007</td>\n",
       "      <td>NaN</td>\n",
       "      <td>NaN</td>\n",
       "      <td>190.0</td>\n",
       "      <td>0.0</td>\n",
       "      <td>NaN</td>\n",
       "      <td>NaN</td>\n",
       "      <td>1950000.0</td>\n",
       "      <td>5.0</td>\n",
       "      <td>NaN</td>\n",
       "    </tr>\n",
       "    <tr>\n",
       "      <td>10008</td>\n",
       "      <td>2.0</td>\n",
       "      <td>NaN</td>\n",
       "      <td>95.0</td>\n",
       "      <td>1.0</td>\n",
       "      <td>0.0</td>\n",
       "      <td>NaN</td>\n",
       "      <td>435000.0</td>\n",
       "      <td>3.0</td>\n",
       "      <td>6.0</td>\n",
       "    </tr>\n",
       "    <tr>\n",
       "      <td>10009</td>\n",
       "      <td>1.0</td>\n",
       "      <td>4.0</td>\n",
       "      <td>57.0</td>\n",
       "      <td>NaN</td>\n",
       "      <td>0.0</td>\n",
       "      <td>100.0</td>\n",
       "      <td>220000.0</td>\n",
       "      <td>2.0</td>\n",
       "      <td>6.0</td>\n",
       "    </tr>\n",
       "    <tr>\n",
       "      <td>10010</td>\n",
       "      <td>1.0</td>\n",
       "      <td>1.0</td>\n",
       "      <td>72.0</td>\n",
       "      <td>0.0</td>\n",
       "      <td>0.0</td>\n",
       "      <td>NaN</td>\n",
       "      <td>169000.0</td>\n",
       "      <td>2.0</td>\n",
       "      <td>3.0</td>\n",
       "    </tr>\n",
       "    <tr>\n",
       "      <td>10011</td>\n",
       "      <td>1.0</td>\n",
       "      <td>6.0</td>\n",
       "      <td>87.0</td>\n",
       "      <td>1.0</td>\n",
       "      <td>0.0</td>\n",
       "      <td>NaN</td>\n",
       "      <td>405000.0</td>\n",
       "      <td>2.0</td>\n",
       "      <td>8.0</td>\n",
       "    </tr>\n",
       "  </tbody>\n",
       "</table>\n",
       "<p>9533 rows × 9 columns</p>\n",
       "</div>"
      ],
      "text/plain": [
       "       Bathrooms  Floor  Floor area  Furniture  Heating  Monthly charges  \\\n",
       "0            2.0    1.0        55.0        0.0      1.0             50.0   \n",
       "1            1.0    2.0        86.0        NaN      0.0            120.0   \n",
       "2            1.0    1.0        58.0        0.0      0.0            150.0   \n",
       "3            2.0    2.0        90.0        0.0      1.0              NaN   \n",
       "4            1.0    NaN        45.0        0.0      0.0            100.0   \n",
       "...          ...    ...         ...        ...      ...              ...   \n",
       "10007        NaN    NaN       190.0        0.0      NaN              NaN   \n",
       "10008        2.0    NaN        95.0        1.0      0.0              NaN   \n",
       "10009        1.0    4.0        57.0        NaN      0.0            100.0   \n",
       "10010        1.0    1.0        72.0        0.0      0.0              NaN   \n",
       "10011        1.0    6.0        87.0        1.0      0.0              NaN   \n",
       "\n",
       "           Price  Rooms  Total floors  \n",
       "0       250000.0    2.0           4.0  \n",
       "1       138000.0    2.0           2.0  \n",
       "2       129000.0    2.0           4.0  \n",
       "3       228000.0    3.0           2.0  \n",
       "4       123000.0    2.0           5.0  \n",
       "...          ...    ...           ...  \n",
       "10007  1950000.0    5.0           NaN  \n",
       "10008   435000.0    3.0           6.0  \n",
       "10009   220000.0    2.0           6.0  \n",
       "10010   169000.0    2.0           3.0  \n",
       "10011   405000.0    2.0           8.0  \n",
       "\n",
       "[9533 rows x 9 columns]"
      ]
     },
     "execution_count": 65,
     "metadata": {},
     "output_type": "execute_result"
    }
   ],
   "source": [
    "train"
   ]
  },
  {
   "cell_type": "markdown",
   "metadata": {},
   "source": [
    "# model "
   ]
  },
  {
   "cell_type": "code",
   "execution_count": 66,
   "metadata": {},
   "outputs": [
    {
     "data": {
      "text/plain": [
       "(9533, 9)"
      ]
     },
     "execution_count": 66,
     "metadata": {},
     "output_type": "execute_result"
    }
   ],
   "source": [
    "train.shape"
   ]
  },
  {
   "cell_type": "code",
   "execution_count": 67,
   "metadata": {},
   "outputs": [
    {
     "data": {
      "text/plain": [
       "Bathrooms           362\n",
       "Floor              3815\n",
       "Floor area            2\n",
       "Furniture          2495\n",
       "Heating             460\n",
       "Monthly charges    2474\n",
       "Price                 0\n",
       "Rooms                71\n",
       "Total floors        789\n",
       "dtype: int64"
      ]
     },
     "execution_count": 67,
     "metadata": {},
     "output_type": "execute_result"
    }
   ],
   "source": [
    "train.isnull().sum()"
   ]
  },
  {
   "cell_type": "code",
   "execution_count": 67,
   "metadata": {},
   "outputs": [
    {
     "data": {
      "text/html": [
       "<div>\n",
       "<style scoped>\n",
       "    .dataframe tbody tr th:only-of-type {\n",
       "        vertical-align: middle;\n",
       "    }\n",
       "\n",
       "    .dataframe tbody tr th {\n",
       "        vertical-align: top;\n",
       "    }\n",
       "\n",
       "    .dataframe thead th {\n",
       "        text-align: right;\n",
       "    }\n",
       "</style>\n",
       "<table border=\"1\" class=\"dataframe\">\n",
       "  <thead>\n",
       "    <tr style=\"text-align: right;\">\n",
       "      <th></th>\n",
       "      <th>Bathrooms</th>\n",
       "      <th>Floor</th>\n",
       "      <th>Floor area</th>\n",
       "      <th>Furniture</th>\n",
       "      <th>Heating</th>\n",
       "      <th>Monthly charges</th>\n",
       "      <th>Rooms</th>\n",
       "      <th>Total floors</th>\n",
       "    </tr>\n",
       "  </thead>\n",
       "  <tbody>\n",
       "    <tr>\n",
       "      <td>0</td>\n",
       "      <td>2.0</td>\n",
       "      <td>1.0</td>\n",
       "      <td>55.0</td>\n",
       "      <td>0.0</td>\n",
       "      <td>1.0</td>\n",
       "      <td>50.0</td>\n",
       "      <td>2.0</td>\n",
       "      <td>4.0</td>\n",
       "    </tr>\n",
       "    <tr>\n",
       "      <td>1</td>\n",
       "      <td>1.0</td>\n",
       "      <td>2.0</td>\n",
       "      <td>86.0</td>\n",
       "      <td>NaN</td>\n",
       "      <td>0.0</td>\n",
       "      <td>120.0</td>\n",
       "      <td>2.0</td>\n",
       "      <td>2.0</td>\n",
       "    </tr>\n",
       "    <tr>\n",
       "      <td>2</td>\n",
       "      <td>1.0</td>\n",
       "      <td>1.0</td>\n",
       "      <td>58.0</td>\n",
       "      <td>0.0</td>\n",
       "      <td>0.0</td>\n",
       "      <td>150.0</td>\n",
       "      <td>2.0</td>\n",
       "      <td>4.0</td>\n",
       "    </tr>\n",
       "    <tr>\n",
       "      <td>3</td>\n",
       "      <td>2.0</td>\n",
       "      <td>2.0</td>\n",
       "      <td>90.0</td>\n",
       "      <td>0.0</td>\n",
       "      <td>1.0</td>\n",
       "      <td>NaN</td>\n",
       "      <td>3.0</td>\n",
       "      <td>2.0</td>\n",
       "    </tr>\n",
       "    <tr>\n",
       "      <td>4</td>\n",
       "      <td>1.0</td>\n",
       "      <td>NaN</td>\n",
       "      <td>45.0</td>\n",
       "      <td>0.0</td>\n",
       "      <td>0.0</td>\n",
       "      <td>100.0</td>\n",
       "      <td>2.0</td>\n",
       "      <td>5.0</td>\n",
       "    </tr>\n",
       "    <tr>\n",
       "      <td>...</td>\n",
       "      <td>...</td>\n",
       "      <td>...</td>\n",
       "      <td>...</td>\n",
       "      <td>...</td>\n",
       "      <td>...</td>\n",
       "      <td>...</td>\n",
       "      <td>...</td>\n",
       "      <td>...</td>\n",
       "    </tr>\n",
       "    <tr>\n",
       "      <td>10007</td>\n",
       "      <td>NaN</td>\n",
       "      <td>NaN</td>\n",
       "      <td>190.0</td>\n",
       "      <td>0.0</td>\n",
       "      <td>NaN</td>\n",
       "      <td>NaN</td>\n",
       "      <td>5.0</td>\n",
       "      <td>NaN</td>\n",
       "    </tr>\n",
       "    <tr>\n",
       "      <td>10008</td>\n",
       "      <td>2.0</td>\n",
       "      <td>NaN</td>\n",
       "      <td>95.0</td>\n",
       "      <td>1.0</td>\n",
       "      <td>0.0</td>\n",
       "      <td>NaN</td>\n",
       "      <td>3.0</td>\n",
       "      <td>6.0</td>\n",
       "    </tr>\n",
       "    <tr>\n",
       "      <td>10009</td>\n",
       "      <td>1.0</td>\n",
       "      <td>4.0</td>\n",
       "      <td>57.0</td>\n",
       "      <td>NaN</td>\n",
       "      <td>0.0</td>\n",
       "      <td>100.0</td>\n",
       "      <td>2.0</td>\n",
       "      <td>6.0</td>\n",
       "    </tr>\n",
       "    <tr>\n",
       "      <td>10010</td>\n",
       "      <td>1.0</td>\n",
       "      <td>1.0</td>\n",
       "      <td>72.0</td>\n",
       "      <td>0.0</td>\n",
       "      <td>0.0</td>\n",
       "      <td>NaN</td>\n",
       "      <td>2.0</td>\n",
       "      <td>3.0</td>\n",
       "    </tr>\n",
       "    <tr>\n",
       "      <td>10011</td>\n",
       "      <td>1.0</td>\n",
       "      <td>6.0</td>\n",
       "      <td>87.0</td>\n",
       "      <td>1.0</td>\n",
       "      <td>0.0</td>\n",
       "      <td>NaN</td>\n",
       "      <td>2.0</td>\n",
       "      <td>8.0</td>\n",
       "    </tr>\n",
       "  </tbody>\n",
       "</table>\n",
       "<p>9533 rows × 8 columns</p>\n",
       "</div>"
      ],
      "text/plain": [
       "       Bathrooms  Floor  Floor area  Furniture  Heating  Monthly charges  \\\n",
       "0            2.0    1.0        55.0        0.0      1.0             50.0   \n",
       "1            1.0    2.0        86.0        NaN      0.0            120.0   \n",
       "2            1.0    1.0        58.0        0.0      0.0            150.0   \n",
       "3            2.0    2.0        90.0        0.0      1.0              NaN   \n",
       "4            1.0    NaN        45.0        0.0      0.0            100.0   \n",
       "...          ...    ...         ...        ...      ...              ...   \n",
       "10007        NaN    NaN       190.0        0.0      NaN              NaN   \n",
       "10008        2.0    NaN        95.0        1.0      0.0              NaN   \n",
       "10009        1.0    4.0        57.0        NaN      0.0            100.0   \n",
       "10010        1.0    1.0        72.0        0.0      0.0              NaN   \n",
       "10011        1.0    6.0        87.0        1.0      0.0              NaN   \n",
       "\n",
       "       Rooms  Total floors  \n",
       "0        2.0           4.0  \n",
       "1        2.0           2.0  \n",
       "2        2.0           4.0  \n",
       "3        3.0           2.0  \n",
       "4        2.0           5.0  \n",
       "...      ...           ...  \n",
       "10007    5.0           NaN  \n",
       "10008    3.0           6.0  \n",
       "10009    2.0           6.0  \n",
       "10010    2.0           3.0  \n",
       "10011    2.0           8.0  \n",
       "\n",
       "[9533 rows x 8 columns]"
      ]
     },
     "execution_count": 67,
     "metadata": {},
     "output_type": "execute_result"
    }
   ],
   "source": [
    "y = train.Price\n",
    "X = train.drop(['Price'], axis=1)\n"
   ]
  },
  {
   "cell_type": "code",
   "execution_count": 61,
   "metadata": {},
   "outputs": [],
   "source": [
    "from sklearn.preprocessing import MinMaxScaler\n",
    "\n",
    "scaler = MinMaxScaler()\n",
    "#y_scaled = scaler.fit_transform(train['Price'])\n",
    "#y_scaled = minmax_scale(train['Price'])\n",
    "X_scaled = scaler.fit_transform(X)"
   ]
  },
  {
   "cell_type": "code",
   "execution_count": 69,
   "metadata": {},
   "outputs": [
    {
     "ename": "AttributeError",
     "evalue": "'numpy.ndarray' object has no attribute 'dropna'",
     "output_type": "error",
     "traceback": [
      "\u001b[1;31m---------------------------------------------------------------------------\u001b[0m",
      "\u001b[1;31mAttributeError\u001b[0m                            Traceback (most recent call last)",
      "\u001b[1;32m<ipython-input-69-5b193130dbd0>\u001b[0m in \u001b[0;36m<module>\u001b[1;34m\u001b[0m\n\u001b[1;32m----> 1\u001b[1;33m \u001b[0mX_scaled\u001b[0m\u001b[1;33m.\u001b[0m\u001b[0mdropna\u001b[0m\u001b[1;33m(\u001b[0m\u001b[0minplace\u001b[0m\u001b[1;33m=\u001b[0m\u001b[1;32mTrue\u001b[0m\u001b[1;33m)\u001b[0m\u001b[1;33m\u001b[0m\u001b[1;33m\u001b[0m\u001b[0m\n\u001b[0m",
      "\u001b[1;31mAttributeError\u001b[0m: 'numpy.ndarray' object has no attribute 'dropna'"
     ]
    }
   ],
   "source": []
  },
  {
   "cell_type": "code",
   "execution_count": 62,
   "metadata": {},
   "outputs": [],
   "source": [
    "from sklearn.model_selection import train_test_split\n",
    "X_train, X_test, y_train, y_test = train_test_split(X_scaled, y, test_size=0.2)"
   ]
  },
  {
   "cell_type": "code",
   "execution_count": 64,
   "metadata": {},
   "outputs": [
    {
     "name": "stdout",
     "output_type": "stream",
     "text": [
      "(7626, 8) (1907, 8)\n",
      "(7626,) (1907,)\n"
     ]
    }
   ],
   "source": [
    "print(X_train.shape,X_test.shape)\n",
    "print(y_train.shape,y_test.shape)"
   ]
  },
  {
   "cell_type": "code",
   "execution_count": 65,
   "metadata": {},
   "outputs": [
    {
     "ename": "ValueError",
     "evalue": "Input contains NaN, infinity or a value too large for dtype('float64').",
     "output_type": "error",
     "traceback": [
      "\u001b[1;31m---------------------------------------------------------------------------\u001b[0m",
      "\u001b[1;31mValueError\u001b[0m                                Traceback (most recent call last)",
      "\u001b[1;32m<ipython-input-65-4d7402b20921>\u001b[0m in \u001b[0;36m<module>\u001b[1;34m\u001b[0m\n\u001b[0;32m      1\u001b[0m \u001b[1;32mfrom\u001b[0m \u001b[0msklearn\u001b[0m\u001b[1;33m.\u001b[0m\u001b[0mlinear_model\u001b[0m \u001b[1;32mimport\u001b[0m \u001b[0mLinearRegression\u001b[0m\u001b[1;33m\u001b[0m\u001b[1;33m\u001b[0m\u001b[0m\n\u001b[0;32m      2\u001b[0m \u001b[0mregressor\u001b[0m \u001b[1;33m=\u001b[0m \u001b[0mLinearRegression\u001b[0m\u001b[1;33m(\u001b[0m\u001b[1;33m)\u001b[0m\u001b[1;33m\u001b[0m\u001b[1;33m\u001b[0m\u001b[0m\n\u001b[1;32m----> 3\u001b[1;33m \u001b[0mregressor\u001b[0m\u001b[1;33m.\u001b[0m\u001b[0mfit\u001b[0m\u001b[1;33m(\u001b[0m\u001b[0mX_train\u001b[0m\u001b[1;33m,\u001b[0m \u001b[0my_train\u001b[0m\u001b[1;33m)\u001b[0m \u001b[1;31m#training the algorithm\u001b[0m\u001b[1;33m\u001b[0m\u001b[1;33m\u001b[0m\u001b[0m\n\u001b[0m\u001b[0;32m      4\u001b[0m \u001b[0mprint\u001b[0m\u001b[1;33m(\u001b[0m\u001b[0mregressor\u001b[0m\u001b[1;33m.\u001b[0m\u001b[0mcoef_\u001b[0m\u001b[1;33m)\u001b[0m\u001b[1;33m\u001b[0m\u001b[1;33m\u001b[0m\u001b[0m\n",
      "\u001b[1;32m~\\anaconda3\\lib\\site-packages\\sklearn\\linear_model\\_base.py\u001b[0m in \u001b[0;36mfit\u001b[1;34m(self, X, y, sample_weight)\u001b[0m\n\u001b[0;32m    490\u001b[0m         \u001b[0mn_jobs_\u001b[0m \u001b[1;33m=\u001b[0m \u001b[0mself\u001b[0m\u001b[1;33m.\u001b[0m\u001b[0mn_jobs\u001b[0m\u001b[1;33m\u001b[0m\u001b[1;33m\u001b[0m\u001b[0m\n\u001b[0;32m    491\u001b[0m         X, y = check_X_y(X, y, accept_sparse=['csr', 'csc', 'coo'],\n\u001b[1;32m--> 492\u001b[1;33m                          y_numeric=True, multi_output=True)\n\u001b[0m\u001b[0;32m    493\u001b[0m \u001b[1;33m\u001b[0m\u001b[0m\n\u001b[0;32m    494\u001b[0m         \u001b[1;32mif\u001b[0m \u001b[0msample_weight\u001b[0m \u001b[1;32mis\u001b[0m \u001b[1;32mnot\u001b[0m \u001b[1;32mNone\u001b[0m\u001b[1;33m:\u001b[0m\u001b[1;33m\u001b[0m\u001b[1;33m\u001b[0m\u001b[0m\n",
      "\u001b[1;32m~\\anaconda3\\lib\\site-packages\\sklearn\\utils\\validation.py\u001b[0m in \u001b[0;36mcheck_X_y\u001b[1;34m(X, y, accept_sparse, accept_large_sparse, dtype, order, copy, force_all_finite, ensure_2d, allow_nd, multi_output, ensure_min_samples, ensure_min_features, y_numeric, warn_on_dtype, estimator)\u001b[0m\n\u001b[0;32m    753\u001b[0m                     \u001b[0mensure_min_features\u001b[0m\u001b[1;33m=\u001b[0m\u001b[0mensure_min_features\u001b[0m\u001b[1;33m,\u001b[0m\u001b[1;33m\u001b[0m\u001b[1;33m\u001b[0m\u001b[0m\n\u001b[0;32m    754\u001b[0m                     \u001b[0mwarn_on_dtype\u001b[0m\u001b[1;33m=\u001b[0m\u001b[0mwarn_on_dtype\u001b[0m\u001b[1;33m,\u001b[0m\u001b[1;33m\u001b[0m\u001b[1;33m\u001b[0m\u001b[0m\n\u001b[1;32m--> 755\u001b[1;33m                     estimator=estimator)\n\u001b[0m\u001b[0;32m    756\u001b[0m     \u001b[1;32mif\u001b[0m \u001b[0mmulti_output\u001b[0m\u001b[1;33m:\u001b[0m\u001b[1;33m\u001b[0m\u001b[1;33m\u001b[0m\u001b[0m\n\u001b[0;32m    757\u001b[0m         y = check_array(y, 'csr', force_all_finite=True, ensure_2d=False,\n",
      "\u001b[1;32m~\\anaconda3\\lib\\site-packages\\sklearn\\utils\\validation.py\u001b[0m in \u001b[0;36mcheck_array\u001b[1;34m(array, accept_sparse, accept_large_sparse, dtype, order, copy, force_all_finite, ensure_2d, allow_nd, ensure_min_samples, ensure_min_features, warn_on_dtype, estimator)\u001b[0m\n\u001b[0;32m    576\u001b[0m         \u001b[1;32mif\u001b[0m \u001b[0mforce_all_finite\u001b[0m\u001b[1;33m:\u001b[0m\u001b[1;33m\u001b[0m\u001b[1;33m\u001b[0m\u001b[0m\n\u001b[0;32m    577\u001b[0m             _assert_all_finite(array,\n\u001b[1;32m--> 578\u001b[1;33m                                allow_nan=force_all_finite == 'allow-nan')\n\u001b[0m\u001b[0;32m    579\u001b[0m \u001b[1;33m\u001b[0m\u001b[0m\n\u001b[0;32m    580\u001b[0m     \u001b[1;32mif\u001b[0m \u001b[0mensure_min_samples\u001b[0m \u001b[1;33m>\u001b[0m \u001b[1;36m0\u001b[0m\u001b[1;33m:\u001b[0m\u001b[1;33m\u001b[0m\u001b[1;33m\u001b[0m\u001b[0m\n",
      "\u001b[1;32m~\\anaconda3\\lib\\site-packages\\sklearn\\utils\\validation.py\u001b[0m in \u001b[0;36m_assert_all_finite\u001b[1;34m(X, allow_nan, msg_dtype)\u001b[0m\n\u001b[0;32m     58\u001b[0m                     \u001b[0mmsg_err\u001b[0m\u001b[1;33m.\u001b[0m\u001b[0mformat\u001b[0m\u001b[1;33m\u001b[0m\u001b[1;33m\u001b[0m\u001b[0m\n\u001b[0;32m     59\u001b[0m                     (type_err,\n\u001b[1;32m---> 60\u001b[1;33m                      msg_dtype if msg_dtype is not None else X.dtype)\n\u001b[0m\u001b[0;32m     61\u001b[0m             )\n\u001b[0;32m     62\u001b[0m     \u001b[1;31m# for object dtype data, we only check for NaNs (GH-13254)\u001b[0m\u001b[1;33m\u001b[0m\u001b[1;33m\u001b[0m\u001b[1;33m\u001b[0m\u001b[0m\n",
      "\u001b[1;31mValueError\u001b[0m: Input contains NaN, infinity or a value too large for dtype('float64')."
     ]
    }
   ],
   "source": [
    "from sklearn.linear_model import LinearRegression\n",
    "regressor = LinearRegression()  \n",
    "regressor.fit(X_train, y_train) #training the algorithm\n",
    "print(regressor.coef_)"
   ]
  },
  {
   "cell_type": "code",
   "execution_count": null,
   "metadata": {},
   "outputs": [],
   "source": []
  }
 ],
 "metadata": {
  "kernelspec": {
   "display_name": "Python 3",
   "language": "python",
   "name": "python3"
  },
  "language_info": {
   "codemirror_mode": {
    "name": "ipython",
    "version": 3
   },
   "file_extension": ".py",
   "mimetype": "text/x-python",
   "name": "python",
   "nbconvert_exporter": "python",
   "pygments_lexer": "ipython3",
   "version": "3.8.8"
  }
 },
 "nbformat": 4,
 "nbformat_minor": 4
}
