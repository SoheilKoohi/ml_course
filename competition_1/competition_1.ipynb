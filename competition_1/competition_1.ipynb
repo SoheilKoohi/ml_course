{
 "cells": [
  {
   "cell_type": "code",
   "execution_count": 1,
   "id": "6f504dd9-aad9-4ac6-a7e0-46a66b556438",
   "metadata": {},
   "outputs": [],
   "source": [
    "import pandas as pd\n",
    "import numpy as np\n",
    "from sklearn.model_selection import train_test_split"
   ]
  },
  {
   "cell_type": "code",
   "execution_count": 14,
   "id": "72a84994-574b-4e08-b7ef-a53c1e9c1892",
   "metadata": {},
   "outputs": [],
   "source": [
    "df = pd.read_csv(\"attr_milan.csv\")"
   ]
  },
  {
   "cell_type": "code",
   "execution_count": 15,
   "id": "7d72d7f8-c0b4-4345-a63d-00d8392bf63a",
   "metadata": {},
   "outputs": [],
   "source": [
    "df_train, df_test = train_test_split(df, test_size=0.11)"
   ]
  },
  {
   "cell_type": "code",
   "execution_count": 16,
   "id": "b98f3f68-b92e-49f3-bafb-3f60c0215a32",
   "metadata": {},
   "outputs": [
    {
     "data": {
      "text/plain": [
       "(10012, 24)"
      ]
     },
     "execution_count": 16,
     "metadata": {},
     "output_type": "execute_result"
    }
   ],
   "source": [
    "df_train.shape"
   ]
  },
  {
   "cell_type": "code",
   "execution_count": 17,
   "id": "82254729-e160-46fe-8fec-b568e5b0962d",
   "metadata": {},
   "outputs": [
    {
     "data": {
      "text/plain": [
       "(1238, 24)"
      ]
     },
     "execution_count": 17,
     "metadata": {},
     "output_type": "execute_result"
    }
   ],
   "source": [
    "df_test.shape"
   ]
  },
  {
   "cell_type": "code",
   "execution_count": 18,
   "id": "613238c8-c4c4-41cc-980b-f1f13d1d56e0",
   "metadata": {},
   "outputs": [
    {
     "data": {
      "text/plain": [
       "(11250, 24)"
      ]
     },
     "execution_count": 18,
     "metadata": {},
     "output_type": "execute_result"
    }
   ],
   "source": [
    "df.shape"
   ]
  },
  {
   "cell_type": "code",
   "execution_count": 19,
   "id": "49f5f481-5b42-4cbc-9409-6785276c7dbf",
   "metadata": {},
   "outputs": [],
   "source": [
    "df_train.to_csv(\"milan_houses_train.csv\", index=False, encoding=\"utf-8-sig\")\n",
    "df_test.to_csv(\"milan_houses_test.csv\", index=False, encoding=\"utf-8-sig\")"
   ]
  },
  {
   "cell_type": "code",
   "execution_count": 23,
   "id": "7c4fc403-b123-42ad-816d-423eb9b6c7aa",
   "metadata": {},
   "outputs": [],
   "source": [
    "import pandas as pd\n",
    "import numpy as np\n",
    "test_df = pd.read_csv(\"milan_houses_test_label.csv\")\n",
    "submitted_df = pd.read_csv(\"ali_madihi_6.csv\")"
   ]
  },
  {
   "cell_type": "code",
   "execution_count": 24,
   "id": "f8a68a52-c571-43bd-a8d2-8d5e8509d7c8",
   "metadata": {},
   "outputs": [],
   "source": [
    "merge_df = pd.merge(test_df,submitted_df,on='id')"
   ]
  },
  {
   "cell_type": "code",
   "execution_count": 25,
   "id": "2108a2d4-d937-406a-a321-98a242ba543f",
   "metadata": {},
   "outputs": [],
   "source": [
    "# merge_df[\"Price\"].replace(to_replace=\"\\.\", value=\"\", regex=True, inplace=True)\n",
    "merge_df =merge_df.dropna(subset = [\"Price\"])\n",
    "filters = merge_df['Price'].str.contains(\"permonth\")\n",
    "merge_df = merge_df[~filters]\n",
    "merge_df = merge_df[(merge_df[\"Price\"] != \"Prezzosurichiesta\")]\n",
    "for i,row in merge_df.iterrows():\n",
    "    \n",
    "    if len(row[\"Price\"]) > 5:\n",
    "        merge_df.at[i,\"Price\"] = (row[\"Price\"][:5]).replace(\".\",\"\") \n",
    "merge_df[\"Price\"] = merge_df.Price.astype(\"float32\")\n",
    "merge_df[\"Prediction\"] = merge_df.Prediction.astype(\"float32\")\n",
    "merge_df.replace([np.inf, -np.inf], np.nan, inplace=True)\n",
    "merge_df =merge_df.dropna()"
   ]
  },
  {
   "cell_type": "code",
   "execution_count": 26,
   "id": "09d50901-d898-4b0a-ad7e-070573749d6c",
   "metadata": {},
   "outputs": [],
   "source": [
    "merge_df = merge_df[merge_df[\"Price\"] < 500]"
   ]
  },
  {
   "cell_type": "code",
   "execution_count": 27,
   "id": "7a3becb5-32d3-4c71-b6ee-d4e66ef2e743",
   "metadata": {},
   "outputs": [
    {
     "data": {
      "text/plain": [
       "125.28861212466599"
      ]
     },
     "execution_count": 27,
     "metadata": {},
     "output_type": "execute_result"
    }
   ],
   "source": [
    "np.sqrt(((merge_df[\"Price\"] - merge_df[\"Prediction\"])**2).mean())"
   ]
  },
  {
   "cell_type": "code",
   "execution_count": 28,
   "id": "6638b653-9cfe-42fe-a49c-836fbfc173c9",
   "metadata": {},
   "outputs": [
    {
     "data": {
      "text/plain": [
       "1442438.875"
      ]
     },
     "execution_count": 28,
     "metadata": {},
     "output_type": "execute_result"
    }
   ],
   "source": [
    "((merge_df[\"Price\"] - merge_df[\"Prediction\"]) ** 2).max()"
   ]
  },
  {
   "cell_type": "code",
   "execution_count": 58,
   "id": "9a88c2dd-64b1-45ce-8f29-83f3848df48b",
   "metadata": {},
   "outputs": [
    {
     "data": {
      "text/plain": [
       "id            0\n",
       "Price         0\n",
       "Prediction    0\n",
       "dtype: int64"
      ]
     },
     "execution_count": 58,
     "metadata": {},
     "output_type": "execute_result"
    }
   ],
   "source": []
  }
 ],
 "metadata": {
  "kernelspec": {
   "display_name": "Python 3",
   "language": "python",
   "name": "python3"
  },
  "language_info": {
   "codemirror_mode": {
    "name": "ipython",
    "version": 3
   },
   "file_extension": ".py",
   "mimetype": "text/x-python",
   "name": "python",
   "nbconvert_exporter": "python",
   "pygments_lexer": "ipython3",
   "version": "3.8.8"
  }
 },
 "nbformat": 4,
 "nbformat_minor": 5
}
